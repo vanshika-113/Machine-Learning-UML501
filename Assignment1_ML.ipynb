{
  "nbformat": 4,
  "nbformat_minor": 0,
  "metadata": {
    "colab": {
      "provenance": []
    },
    "kernelspec": {
      "name": "python3",
      "display_name": "Python 3"
    },
    "language_info": {
      "name": "python"
    }
  },
  "cells": [
    {
      "cell_type": "code",
      "execution_count": 2,
      "metadata": {
        "colab": {
          "base_uri": "https://localhost:8080/"
        },
        "id": "1MFYA0SokC36",
        "outputId": "d24e5397-e416-4ed1-cfd7-4891e6bd78ca"
      },
      "outputs": [
        {
          "output_type": "stream",
          "name": "stdout",
          "text": [
            "[5 4 6 3 2 1]\n"
          ]
        }
      ],
      "source": [
        "import numpy as np\n",
        "arr=np.array([1,2,3,6,4,5])\n",
        "reversed_arr=arr[::-1]\n",
        "print(reversed_arr)"
      ]
    },
    {
      "cell_type": "code",
      "source": [
        "array1=np.array([[1,2,3],[2,4,5],[1,2,3]])\n",
        "flatten1=array1.flatten()\n",
        "print(flatten1)"
      ],
      "metadata": {
        "colab": {
          "base_uri": "https://localhost:8080/"
        },
        "id": "Kc8dXYR7kVH2",
        "outputId": "ba9f4df8-bfa3-4945-dce9-cbeb92993635"
      },
      "execution_count": null,
      "outputs": [
        {
          "output_type": "stream",
          "name": "stdout",
          "text": [
            "[1 2 3 2 4 5 1 2 3]\n"
          ]
        }
      ]
    },
    {
      "cell_type": "code",
      "source": [
        "arr1=np.array([[1,2],[3,4]])\n",
        "arr2=np.array([[1,2],[3,4]])\n",
        "are_equal=np.array_equal(arr1,arr2)\n",
        "print(are_equal)\n"
      ],
      "metadata": {
        "colab": {
          "base_uri": "https://localhost:8080/"
        },
        "id": "DsVk-MObkaHD",
        "outputId": "e9d0cd4c-f5ee-40ec-b261-6a369d88f803"
      },
      "execution_count": null,
      "outputs": [
        {
          "output_type": "stream",
          "name": "stdout",
          "text": [
            "True\n"
          ]
        }
      ]
    },
    {
      "cell_type": "code",
      "source": [
        "x=np.array([1,2,3,4,5,1,2,1,1,1])\n",
        "y=np.array([1,1,1,2,3,4,2,4,3,3])\n",
        "def most_frequent_indices(arr):\n",
        "    counts=np.bincount(arr)\n",
        "    value=np.argmax(counts)\n",
        "    indices=np.where(arr==value)\n",
        "    return value,indices\n",
        "val_x, idx_x=most_frequent_indices(x)\n",
        "val_y, idx_y=most_frequent_indices(y)\n",
        "print(val_x)\n",
        "print(val_y)\n",
        "print(idx_x)\n",
        "print(idx_y)\n"
      ],
      "metadata": {
        "colab": {
          "base_uri": "https://localhost:8080/"
        },
        "id": "TsWLSfh2kic3",
        "outputId": "7674bacf-ca0a-4c2c-adc7-111f693ea89d"
      },
      "execution_count": null,
      "outputs": [
        {
          "output_type": "stream",
          "name": "stdout",
          "text": [
            "1\n",
            "1\n",
            "(array([0, 5, 7, 8, 9]),)\n",
            "(array([0, 1, 2]),)\n"
          ]
        }
      ]
    },
    {
      "cell_type": "code",
      "source": [
        "gfg=np.matrix('[4,1,9;12,3,1;4,5,6]')\n",
        "sum_all=gfg.sum()\n",
        "sum_rows=gfg.sum(axis=1)\n",
        "sum_cols=gfg.sum(axis=0)\n",
        "print(sum_all,sum_rows,sum_cols)"
      ],
      "metadata": {
        "colab": {
          "base_uri": "https://localhost:8080/"
        },
        "id": "M-AuTTyWlKEM",
        "outputId": "a3226c91-0474-4df6-bdcb-2f8b0fe2cca5"
      },
      "execution_count": null,
      "outputs": [
        {
          "output_type": "stream",
          "name": "stdout",
          "text": [
            "45 [[14]\n",
            " [16]\n",
            " [15]] [[20  9 16]]\n"
          ]
        }
      ]
    },
    {
      "cell_type": "code",
      "source": [
        "n_array=np.array([[55,25,15],[30,44,2],[11,45,77]])\n",
        "diag_sum=np.trace(n_array)\n",
        "eigen_vals, eigen_vecs=np.linalg.eig(n_array)\n",
        "inv=np.linalg.inv(n_array)\n",
        "det=np.linalg.det(n_array)\n",
        "print(\"sum of diagonal: \",diag_sum)\n",
        "print(\"Eigen values: \",eigen_vals)\n",
        "print(\"Eigen vectors: \",eigen_vecs)\n",
        "print(\"Inverse of matrix: \",inv)\n",
        "print(\"Determinant: \",det)"
      ],
      "metadata": {
        "colab": {
          "base_uri": "https://localhost:8080/"
        },
        "id": "UMziPberlOEn",
        "outputId": "469a7254-e947-4a59-95fd-2887ef57fa1d"
      },
      "execution_count": null,
      "outputs": [
        {
          "output_type": "stream",
          "name": "stdout",
          "text": [
            "sum of diagonal:  176\n",
            "Eigen values:  [98.16835147 28.097044   49.73460452]\n",
            "Eigen vectors:  [[ 0.4574917   0.34637121 -0.15017693]\n",
            " [ 0.28447814 -0.72784061 -0.4852124 ]\n",
            " [ 0.84248058  0.59184038  0.8614034 ]]\n",
            "Inverse of matrix:  [[ 0.02404141 -0.00911212 -0.00444671]\n",
            " [-0.01667882  0.02966905  0.0024785 ]\n",
            " [ 0.00631287 -0.01603732  0.01217379]]\n",
            "Determinant:  137180.0000000001\n"
          ]
        }
      ]
    },
    {
      "cell_type": "code",
      "source": [
        "p1=np.array([[1,2],[2,3]])\n",
        "q1=np.array([[4,5],[6,7]])\n",
        "product1=np.dot(p1,q1)\n",
        "cov1=np.cov(p1.T, q1.T)\n",
        "p2=np.array([[1,2],[2,3],[4,5]])\n",
        "q2=np.array([[4,5,1],[6,7,2]])\n",
        "product2=np.dot(p2,q2)\n",
        "cov2=np.cov(np.hstack((p2.T,q2)))\n",
        "print(\"Product1= \",product1)\n",
        "print(\"cov1= \",cov1)\n",
        "print(\"Product2= \",product2)\n",
        "print(\"cov2= \",cov2)"
      ],
      "metadata": {
        "colab": {
          "base_uri": "https://localhost:8080/"
        },
        "id": "o7UFBAsflSvq",
        "outputId": "541dcfa5-e383-4537-f160-2a7a7f72f2a6"
      },
      "execution_count": null,
      "outputs": [
        {
          "output_type": "stream",
          "name": "stdout",
          "text": [
            "Product1=  [[16 19]\n",
            " [26 31]]\n",
            "cov1=  [[0.5 0.5 1.  1. ]\n",
            " [0.5 0.5 1.  1. ]\n",
            " [1.  1.  2.  2. ]\n",
            " [1.  1.  2.  2. ]]\n",
            "Product2=  [[16 19  5]\n",
            " [26 31  8]\n",
            " [46 55 14]]\n",
            "cov2=  [[2.96666667 3.63333333]\n",
            " [3.63333333 4.56666667]]\n"
          ]
        }
      ]
    },
    {
      "cell_type": "code",
      "source": [
        "x=np.array([[2,3,4],[3,2,9]])\n",
        "y=np.array([[1,5,0],[5,10,3]])\n",
        "inner_prod=np.inner(x,y)\n",
        "outer_prod=np.outer(x,y)\n",
        "cartesian_prod=np.array(np.meshgrid(x.flatten(),y.flatten())).T.reshape(-1,2)\n",
        "print(\"Inner product= \",inner_prod)\n",
        "print(\"Outer product= \",outer_prod)\n",
        "print(\"Cartesian product= \",cartesian_prod)"
      ],
      "metadata": {
        "colab": {
          "base_uri": "https://localhost:8080/"
        },
        "id": "VAvruFP2l-aT",
        "outputId": "c9c5a0bb-d4a6-484b-89cb-212b863d24f3"
      },
      "execution_count": null,
      "outputs": [
        {
          "output_type": "stream",
          "name": "stdout",
          "text": [
            "Inner product=  [[17 52]\n",
            " [13 62]]\n",
            "Outer product=  [[ 2 10  0 10 20  6]\n",
            " [ 3 15  0 15 30  9]\n",
            " [ 4 20  0 20 40 12]\n",
            " [ 3 15  0 15 30  9]\n",
            " [ 2 10  0 10 20  6]\n",
            " [ 9 45  0 45 90 27]]\n",
            "Cartesian product=  [[ 2  1]\n",
            " [ 2  5]\n",
            " [ 2  0]\n",
            " [ 2  5]\n",
            " [ 2 10]\n",
            " [ 2  3]\n",
            " [ 3  1]\n",
            " [ 3  5]\n",
            " [ 3  0]\n",
            " [ 3  5]\n",
            " [ 3 10]\n",
            " [ 3  3]\n",
            " [ 4  1]\n",
            " [ 4  5]\n",
            " [ 4  0]\n",
            " [ 4  5]\n",
            " [ 4 10]\n",
            " [ 4  3]\n",
            " [ 3  1]\n",
            " [ 3  5]\n",
            " [ 3  0]\n",
            " [ 3  5]\n",
            " [ 3 10]\n",
            " [ 3  3]\n",
            " [ 2  1]\n",
            " [ 2  5]\n",
            " [ 2  0]\n",
            " [ 2  5]\n",
            " [ 2 10]\n",
            " [ 2  3]\n",
            " [ 9  1]\n",
            " [ 9  5]\n",
            " [ 9  0]\n",
            " [ 9  5]\n",
            " [ 9 10]\n",
            " [ 9  3]]\n"
          ]
        }
      ]
    },
    {
      "cell_type": "code",
      "source": [
        "array = np.array([[1, -2, 3], [-4, 5, -6]])\n",
        "print(\"Absolute:\\n\", np.abs(array))\n",
        "\n",
        "print(\"Flattened percentiles:\", np.percentile(array, [25, 50, 75]))\n",
        "print(\"Column-wise percentiles:\\n\", np.percentile(array, [25, 50, 75], axis=0))\n",
        "print(\"Row-wise percentiles:\\n\", np.percentile(array, [25, 50, 75], axis=1))\n",
        "\n",
        "\n",
        "print(\"Mean(flatten):\", np.mean(array))\n",
        "print(\"Mean(column):\", np.mean(array, axis=0))\n",
        "print(\"Mean(row):\", np.mean(array, axis=1))\n",
        "\n",
        "print(\"Median(flatten):\", np.median(array))\n",
        "print(\"Median(column):\", np.median(array, axis=0))\n",
        "print(\"Median(row):\", np.median(array, axis=1))\n",
        "\n",
        "print(\"Std(flatten):\", np.std(array))\n",
        "print(\"Std(column):\", np.std(array, axis=0))\n",
        "print(\"Std(row):\", np.std(array, axis=1))\n",
        "\n",
        "\n"
      ],
      "metadata": {
        "id": "3dS1AAe1mDDE",
        "colab": {
          "base_uri": "https://localhost:8080/"
        },
        "outputId": "3c30806e-2fcb-4ba2-8083-8fec5b474953"
      },
      "execution_count": 4,
      "outputs": [
        {
          "output_type": "stream",
          "name": "stdout",
          "text": [
            "Absolute:\n",
            " [[1 2 3]\n",
            " [4 5 6]]\n",
            "Flattened percentiles: [-3.5 -0.5  2.5]\n",
            "Column-wise percentiles:\n",
            " [[-2.75 -0.25 -3.75]\n",
            " [-1.5   1.5  -1.5 ]\n",
            " [-0.25  3.25  0.75]]\n",
            "Row-wise percentiles:\n",
            " [[-0.5 -5. ]\n",
            " [ 1.  -4. ]\n",
            " [ 2.   0.5]]\n",
            "Mean(flatten): -0.5\n",
            "Mean(column): [-1.5  1.5 -1.5]\n",
            "Mean(row): [ 0.66666667 -1.66666667]\n",
            "Median(flatten): -0.5\n",
            "Median(column): [-1.5  1.5 -1.5]\n",
            "Median(row): [ 1. -4.]\n",
            "Std(flatten): 3.8622100754188224\n",
            "Std(column): [2.5 3.5 4.5]\n",
            "Std(row): [2.05480467 4.78423336]\n"
          ]
        }
      ]
    },
    {
      "cell_type": "code",
      "source": [
        "a=np.array([-1,8,-1.6,-0.5,0.5,1.6,1.8,3.0])\n",
        "floor_val=np.floor(a)\n",
        "ceil_val=np.ceil(a)\n",
        "trunc_val=np.trunc(a)\n",
        "round_val=np.round(a)\n",
        "print(\"Floor val= \",floor_val)\n",
        "print(\"Ceil val= \",ceil_val)\n",
        "print(\"Trunc val= \",trunc_val)\n",
        "print(\"Round val= \",round_val)"
      ],
      "metadata": {
        "colab": {
          "base_uri": "https://localhost:8080/"
        },
        "id": "Q8SAVw7uxFWr",
        "outputId": "bb7be5ca-ddc1-43e8-f6dd-c28dc26e3b59"
      },
      "execution_count": 3,
      "outputs": [
        {
          "output_type": "stream",
          "name": "stdout",
          "text": [
            "Floor val=  [-1.  8. -2. -1.  0.  1.  1.  3.]\n",
            "Ceil val=  [-1.  8. -1. -0.  1.  2.  2.  3.]\n",
            "Trunc val=  [-1.  8. -1. -0.  0.  1.  1.  3.]\n",
            "Round val=  [-1.  8. -2. -0.  0.  2.  2.  3.]\n"
          ]
        }
      ]
    },
    {
      "cell_type": "code",
      "source": [
        "array = np.array([10, 52, 62, 16, 16, 54, 453])\n",
        "print(\"Sorted:\", np.sort(array))\n",
        "print(\"Sorted indices:\", np.argsort(array))\n",
        "print(\"4 smallest:\", np.sort(array)[:4])\n",
        "print(\"5 largest:\", np.sort(array)[-5:])\n",
        "\n",
        "\n",
        "array = np.array([1.0, 1.2, 2.2, 2.0, 3.0, 2.0])\n",
        "ints = array[array == array.astype(int)]\n",
        "floats = array[array != array.astype(int)]\n",
        "print(\"Integer elements:\", ints)\n",
        "print(\"Float elements:\", floats)\n"
      ],
      "metadata": {
        "colab": {
          "base_uri": "https://localhost:8080/"
        },
        "id": "BTCZf1fAxOGc",
        "outputId": "fe6a23f6-94c4-49f3-87c9-148484e17242"
      },
      "execution_count": 6,
      "outputs": [
        {
          "output_type": "stream",
          "name": "stdout",
          "text": [
            "Sorted: [ 10  16  16  52  54  62 453]\n",
            "Sorted indices: [0 3 4 1 5 2 6]\n",
            "4 smallest: [10 16 16 52]\n",
            "5 largest: [ 16  52  54  62 453]\n",
            "Integer elements: [1. 2. 3. 2.]\n",
            "Float elements: [1.2 2.2]\n"
          ]
        }
      ]
    },
    {
      "cell_type": "code",
      "source": [
        "from PIL import Image\n",
        "\n",
        "\n",
        "def img_to_array(path):\n",
        "    img = Image.open(path)\n",
        "    arr = np.array(img)\n",
        "    if len(arr.shape) == 2:\n",
        "        np.savetxt(\"grayscale_image.txt\", arr, fmt='%d')\n",
        "    else:\n",
        "        reshaped = arr.reshape(-1, arr.shape[-1])\n",
        "        np.savetxt(\"rgb_image.txt\", reshaped, fmt='%d')\n",
        "\n",
        "\n",
        "def load_saved(file_path):\n",
        "    data = np.loadtxt(file_path, dtype=int)\n",
        "    print(data)\n",
        "    return data\n",
        "\n",
        "\n"
      ],
      "metadata": {
        "id": "ffgUwPOjySNG"
      },
      "execution_count": 7,
      "outputs": []
    }
  ]
}