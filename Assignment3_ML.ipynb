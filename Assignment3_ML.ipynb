{
  "nbformat": 4,
  "nbformat_minor": 0,
  "metadata": {
    "colab": {
      "provenance": []
    },
    "kernelspec": {
      "name": "python3",
      "display_name": "Python 3"
    },
    "language_info": {
      "name": "python"
    }
  },
  "cells": [
    {
      "cell_type": "code",
      "execution_count": null,
      "metadata": {
        "colab": {
          "base_uri": "https://localhost:8080/"
        },
        "id": "yd0MDt7Euft5",
        "outputId": "41517a76-bec7-4677-8c86-7d4bd731d3ca"
      },
      "outputs": [
        {
          "output_type": "stream",
          "name": "stdout",
          "text": [
            "   Tid Refund Marital Status  Taxable Income Cheat\n",
            "0    1    Yes         Single          125000    No\n",
            "1    2     No        Married          100000    No\n",
            "2    3     No         Single           70000    No\n",
            "3    4    Yes        Married          120000    No\n",
            "4    5     No       Divorced           95000   Yes\n",
            "5    6     No        Married           60000    No\n",
            "6    7    Yes       Divorced          220000    No\n",
            "7    8     No         Single           85000   Yes\n",
            "8    9     No        Married           75000    No\n",
            "9   10     No         Single           90000   Yes\n"
          ]
        }
      ],
      "source": [
        "import pandas as pd\n",
        "data={\n",
        "    \"Tid\": [1,2,3,4,5,6,7,8,9,10],\n",
        "    \"Refund\": [\"Yes\",\"No\",\"No\",\"Yes\",\"No\",\"No\",\"Yes\",\"No\",\"No\",\"No\"],\n",
        "    \"Marital Status\": [\"Single\",\"Married\",\"Single\",\"Married\",\"Divorced\",\"Married\",\"Divorced\",\"Single\",\"Married\",\"Single\"],\n",
        "    \"Taxable Income\": [125000,100000,70000,120000,95000,60000,220000,85000,75000,90000],\n",
        "    \"Cheat\": [\"No\",\"No\",\"No\",\"No\",\"Yes\",\"No\",\"No\",\"Yes\",\"No\",\"Yes\"],\n",
        "}\n",
        "df=pd.DataFrame(data)\n",
        "print(df)\n",
        "\n"
      ]
    },
    {
      "cell_type": "code",
      "source": [
        "print(df.iloc[[0,4,7,8]])"
      ],
      "metadata": {
        "colab": {
          "base_uri": "https://localhost:8080/"
        },
        "id": "s4M9Nj8o5eeR",
        "outputId": "982ec406-0daa-4b1c-e21a-9f4b11f38822"
      },
      "execution_count": null,
      "outputs": [
        {
          "output_type": "stream",
          "name": "stdout",
          "text": [
            "   Tid Refund Marital Status  Taxable Income Cheat\n",
            "0    1    Yes         Single          125000    No\n",
            "4    5     No       Divorced           95000   Yes\n",
            "7    8     No         Single           85000   Yes\n",
            "8    9     No        Married           75000    No\n"
          ]
        }
      ]
    },
    {
      "cell_type": "code",
      "source": [
        "print(df.iloc[3:8])"
      ],
      "metadata": {
        "colab": {
          "base_uri": "https://localhost:8080/"
        },
        "id": "jI0rHKNh5me3",
        "outputId": "37a7f3ba-9313-4e15-a550-32ca2289f305"
      },
      "execution_count": null,
      "outputs": [
        {
          "output_type": "stream",
          "name": "stdout",
          "text": [
            "   Tid Refund Marital Status  Taxable Income Cheat\n",
            "3    4    Yes        Married          120000    No\n",
            "4    5     No       Divorced           95000   Yes\n",
            "5    6     No        Married           60000    No\n",
            "6    7    Yes       Divorced          220000    No\n",
            "7    8     No         Single           85000   Yes\n"
          ]
        }
      ]
    },
    {
      "cell_type": "code",
      "source": [
        "print(df.iloc[4:9,2:5])"
      ],
      "metadata": {
        "colab": {
          "base_uri": "https://localhost:8080/"
        },
        "id": "8_ckCp6e56Be",
        "outputId": "d8fa1406-a4ca-4230-c3ce-ede64ad3e639"
      },
      "execution_count": null,
      "outputs": [
        {
          "output_type": "stream",
          "name": "stdout",
          "text": [
            "  Marital Status  Taxable Income Cheat\n",
            "4       Divorced           95000   Yes\n",
            "5        Married           60000    No\n",
            "6       Divorced          220000    No\n",
            "7         Single           85000   Yes\n",
            "8        Married           75000    No\n"
          ]
        }
      ]
    },
    {
      "cell_type": "code",
      "source": [
        "print(df.iloc[0:10,1:4])"
      ],
      "metadata": {
        "colab": {
          "base_uri": "https://localhost:8080/"
        },
        "id": "P5ZW3U7T7nRA",
        "outputId": "4e75ee66-b069-42fa-c6e0-43fb91b62971"
      },
      "execution_count": null,
      "outputs": [
        {
          "output_type": "stream",
          "name": "stdout",
          "text": [
            "  Refund Marital Status  Taxable Income\n",
            "0    Yes         Single          125000\n",
            "1     No        Married          100000\n",
            "2     No         Single           70000\n",
            "3    Yes        Married          120000\n",
            "4     No       Divorced           95000\n",
            "5     No        Married           60000\n",
            "6    Yes       Divorced          220000\n",
            "7     No         Single           85000\n",
            "8     No        Married           75000\n",
            "9     No         Single           90000\n"
          ]
        }
      ]
    },
    {
      "cell_type": "code",
      "source": [
        "import pandas as pd\n",
        "df_csv=pd.read_csv('https://raw.githubusercontent.com/mwaskom/seaborn-data/master/iris.csv')\n",
        "print(df_csv.head())\n",
        "\n",
        "df_csv=df_csv.drop(index=3)\n",
        "df_csv=df_csv.drop(df_csv.columns[2],axis=1)\n",
        "print(df_csv.head())"
      ],
      "metadata": {
        "id": "Q9paperw87p3",
        "colab": {
          "base_uri": "https://localhost:8080/"
        },
        "outputId": "21659a30-d701-459a-ba3e-c5bccfc6f84f"
      },
      "execution_count": 19,
      "outputs": [
        {
          "output_type": "stream",
          "name": "stdout",
          "text": [
            "   sepal_length  sepal_width  petal_length  petal_width species\n",
            "0           5.1          3.5           1.4          0.2  setosa\n",
            "1           4.9          3.0           1.4          0.2  setosa\n",
            "2           4.7          3.2           1.3          0.2  setosa\n",
            "3           4.6          3.1           1.5          0.2  setosa\n",
            "4           5.0          3.6           1.4          0.2  setosa\n",
            "   sepal_length  sepal_width  petal_width species\n",
            "0           5.1          3.5          0.2  setosa\n",
            "1           4.9          3.0          0.2  setosa\n",
            "2           4.7          3.2          0.2  setosa\n",
            "4           5.0          3.6          0.2  setosa\n",
            "5           5.4          3.9          0.4  setosa\n"
          ]
        }
      ]
    },
    {
      "cell_type": "code",
      "source": [
        "import pandas as pd\n",
        "data={\n",
        "    \"Employee_ID\":[101,102,103,104,105],\n",
        "    \"Name\":[\"Alice\",\"Bob\",\"Charlie\",\"Diana\",\"Edward\"],\n",
        "    \"Department\":[\"HR\",\"IT\",\"IT\",\"Marketing\",\"Sales\"],\n",
        "    \"Age\":[29,34,41,28,38],\n",
        "    \"Salary\":[50000,70000,65000,55000,60000],\n",
        "    \"Years_of_Experience\":[4,8,10,3,12],\n",
        "    \"Joining_Date\":[\"2020-03-15\",\"2017-07-19\",\"2013-06-01\",\"2021-02-10\",\"2010-11-25\"],\n",
        "    \"Gender\":[\"Female\",\"Male\",\"Male\",\"Female\",\"Male\"],\n",
        "    \"Bonus\":[5000,7000,6000,4500,5000],\n",
        "    \"Rating\":[4.5,4.0,3.8,4.7,3.5],\n",
        "}\n",
        "df=pd.DataFrame(data)\n",
        "print(df)"
      ],
      "metadata": {
        "id": "gRPeWfr6Fk7V",
        "colab": {
          "base_uri": "https://localhost:8080/"
        },
        "outputId": "12f19bca-ef83-4986-b508-b9890f953786"
      },
      "execution_count": null,
      "outputs": [
        {
          "output_type": "stream",
          "name": "stdout",
          "text": [
            "   Employee_ID     Name Department  Age  Salary  Years_of_Experience  \\\n",
            "0          101    Alice         HR   29   50000                    4   \n",
            "1          102      Bob         IT   34   70000                    8   \n",
            "2          103  Charlie         IT   41   65000                   10   \n",
            "3          104    Diana  Marketing   28   55000                    3   \n",
            "4          105   Edward      Sales   38   60000                   12   \n",
            "\n",
            "  Joining_Date  Gender  Bonus  Rating  \n",
            "0   2020-03-15  Female   5000     4.5  \n",
            "1   2017-07-19    Male   7000     4.0  \n",
            "2   2013-06-01    Male   6000     3.8  \n",
            "3   2021-02-10  Female   4500     4.7  \n",
            "4   2010-11-25    Male   5000     3.5  \n"
          ]
        }
      ]
    },
    {
      "cell_type": "code",
      "source": [
        "print(\"Shape:\",df.shape)"
      ],
      "metadata": {
        "colab": {
          "base_uri": "https://localhost:8080/"
        },
        "id": "uzd02ZCuonNg",
        "outputId": "5085558c-8b85-4924-e464-551c9b31ea4c"
      },
      "execution_count": null,
      "outputs": [
        {
          "output_type": "stream",
          "name": "stdout",
          "text": [
            "Shape: (5, 10)\n"
          ]
        }
      ]
    },
    {
      "cell_type": "code",
      "source": [
        "print(df.info())"
      ],
      "metadata": {
        "colab": {
          "base_uri": "https://localhost:8080/"
        },
        "id": "5Y6NI6HhoxkQ",
        "outputId": "5f36e5e4-0485-4dc3-dea0-c3435665ced9"
      },
      "execution_count": null,
      "outputs": [
        {
          "output_type": "stream",
          "name": "stdout",
          "text": [
            "<class 'pandas.core.frame.DataFrame'>\n",
            "RangeIndex: 5 entries, 0 to 4\n",
            "Data columns (total 10 columns):\n",
            " #   Column               Non-Null Count  Dtype  \n",
            "---  ------               --------------  -----  \n",
            " 0   Employee_ID          5 non-null      int64  \n",
            " 1   Name                 5 non-null      object \n",
            " 2   Department           5 non-null      object \n",
            " 3   Age                  5 non-null      int64  \n",
            " 4   Salary               5 non-null      int64  \n",
            " 5   Years_of_Experience  5 non-null      int64  \n",
            " 6   Joining_Date         5 non-null      object \n",
            " 7   Gender               5 non-null      object \n",
            " 8   Bonus                5 non-null      int64  \n",
            " 9   Rating               5 non-null      float64\n",
            "dtypes: float64(1), int64(5), object(4)\n",
            "memory usage: 532.0+ bytes\n",
            "None\n"
          ]
        }
      ]
    },
    {
      "cell_type": "code",
      "source": [
        "print(df.describe())"
      ],
      "metadata": {
        "colab": {
          "base_uri": "https://localhost:8080/"
        },
        "id": "9J5YbdGEpOGV",
        "outputId": "ae2b4d4b-b3cc-4e63-d909-8b84d0993797"
      },
      "execution_count": null,
      "outputs": [
        {
          "output_type": "stream",
          "name": "stdout",
          "text": [
            "       Employee_ID        Age       Salary  Years_of_Experience   Bonus  \\\n",
            "count     5.000000   5.000000      5.00000             5.000000     5.0   \n",
            "mean    103.000000  34.000000  60000.00000             7.400000  5500.0   \n",
            "std       1.581139   5.612486   7905.69415             3.847077  1000.0   \n",
            "min     101.000000  28.000000  50000.00000             3.000000  4500.0   \n",
            "25%     102.000000  29.000000  55000.00000             4.000000  5000.0   \n",
            "50%     103.000000  34.000000  60000.00000             8.000000  5000.0   \n",
            "75%     104.000000  38.000000  65000.00000            10.000000  6000.0   \n",
            "max     105.000000  41.000000  70000.00000            12.000000  7000.0   \n",
            "\n",
            "         Rating  \n",
            "count  5.000000  \n",
            "mean   4.100000  \n",
            "std    0.494975  \n",
            "min    3.500000  \n",
            "25%    3.800000  \n",
            "50%    4.000000  \n",
            "75%    4.500000  \n",
            "max    4.700000  \n"
          ]
        }
      ]
    },
    {
      "cell_type": "code",
      "source": [
        "print(df.head())"
      ],
      "metadata": {
        "colab": {
          "base_uri": "https://localhost:8080/"
        },
        "id": "fgJ9536ypXeJ",
        "outputId": "7e6ec41e-424f-4f71-f11e-81a790502a24"
      },
      "execution_count": null,
      "outputs": [
        {
          "output_type": "stream",
          "name": "stdout",
          "text": [
            "   Employee_ID     Name Department  Age  Salary  Years_of_Experience  \\\n",
            "0          101    Alice         HR   29   50000                    4   \n",
            "1          102      Bob         IT   34   70000                    8   \n",
            "2          103  Charlie         IT   41   65000                   10   \n",
            "3          104    Diana  Marketing   28   55000                    3   \n",
            "4          105   Edward      Sales   38   60000                   12   \n",
            "\n",
            "  Joining_Date  Gender  Bonus  Rating  \n",
            "0   2020-03-15  Female   5000     4.5  \n",
            "1   2017-07-19    Male   7000     4.0  \n",
            "2   2013-06-01    Male   6000     3.8  \n",
            "3   2021-02-10  Female   4500     4.7  \n",
            "4   2010-11-25    Male   5000     3.5  \n"
          ]
        }
      ]
    },
    {
      "cell_type": "code",
      "source": [
        "print(df.tail(3))"
      ],
      "metadata": {
        "colab": {
          "base_uri": "https://localhost:8080/"
        },
        "id": "8OgpTUPTw2ob",
        "outputId": "5e63bf06-6868-401c-da3d-7c5e32d41b10"
      },
      "execution_count": null,
      "outputs": [
        {
          "output_type": "stream",
          "name": "stdout",
          "text": [
            "   Employee_ID     Name Department  Age  Salary  Years_of_Experience  \\\n",
            "2          103  Charlie         IT   41   65000                   10   \n",
            "3          104    Diana  Marketing   28   55000                    3   \n",
            "4          105   Edward      Sales   38   60000                   12   \n",
            "\n",
            "  Joining_Date  Gender  Bonus  Rating  \n",
            "2   2013-06-01    Male   6000     3.8  \n",
            "3   2021-02-10  Female   4500     4.7  \n",
            "4   2010-11-25    Male   5000     3.5  \n"
          ]
        }
      ]
    },
    {
      "cell_type": "code",
      "source": [
        "print(\"Average Salary:\",df[\"Salary\"].mean())\n",
        "print(\"Total bonus:\",df[\"Bonus\"].sum())\n",
        "print(\"Youngest employee's age:\",df[\"Age\"].min())\n",
        "print(\"Highest rating:\",df[\"Rating\"].max())"
      ],
      "metadata": {
        "colab": {
          "base_uri": "https://localhost:8080/"
        },
        "id": "szVv4wayw_ou",
        "outputId": "f5e29dd6-349b-4dd6-997c-a68b477c3cc2"
      },
      "execution_count": null,
      "outputs": [
        {
          "output_type": "stream",
          "name": "stdout",
          "text": [
            "Average Salary: 60000.0\n",
            "Total bonus: 27500\n",
            "Youngest employee's age: 28\n",
            "Highest rating: 4.7\n"
          ]
        }
      ]
    },
    {
      "cell_type": "code",
      "source": [
        "sorted_df=df.sort_values(by=\"Salary\",ascending=False)\n",
        "print(sorted_df)"
      ],
      "metadata": {
        "colab": {
          "base_uri": "https://localhost:8080/"
        },
        "id": "sHYza85syuZv",
        "outputId": "64f7c161-395f-411a-8413-2947f45db45c"
      },
      "execution_count": null,
      "outputs": [
        {
          "output_type": "stream",
          "name": "stdout",
          "text": [
            "   Employee_ID     Name Department  Age  Salary  Years_of_Experience  \\\n",
            "1          102      Bob         IT   34   70000                    8   \n",
            "2          103  Charlie         IT   41   65000                   10   \n",
            "4          105   Edward      Sales   38   60000                   12   \n",
            "3          104    Diana  Marketing   28   55000                    3   \n",
            "0          101    Alice         HR   29   50000                    4   \n",
            "\n",
            "  Joining_Date  Gender  Bonus  Rating  \n",
            "1   2017-07-19    Male   7000     4.0  \n",
            "2   2013-06-01    Male   6000     3.8  \n",
            "4   2010-11-25    Male   5000     3.5  \n",
            "3   2021-02-10  Female   4500     4.7  \n",
            "0   2020-03-15  Female   5000     4.5  \n"
          ]
        }
      ]
    },
    {
      "cell_type": "code",
      "source": [
        "df[\"Performance\"]=pd.cut(df[\"Rating\"],bins=[0,4.0,4.5,5],labels=[\"Average\",\"Good\",\"Excellent\"])\n",
        "print(df[[\"Name\",\"Performance\"]])"
      ],
      "metadata": {
        "colab": {
          "base_uri": "https://localhost:8080/"
        },
        "id": "VSLXO4a30Dib",
        "outputId": "acb4984e-d77a-4513-b36e-6401c0f021d8"
      },
      "execution_count": null,
      "outputs": [
        {
          "output_type": "stream",
          "name": "stdout",
          "text": [
            "      Name Performance\n",
            "0    Alice        Good\n",
            "1      Bob     Average\n",
            "2  Charlie     Average\n",
            "3    Diana   Excellent\n",
            "4   Edward     Average\n"
          ]
        }
      ]
    },
    {
      "cell_type": "code",
      "source": [
        "print(df.isnull().sum())\n",
        "df[\"Bonus\"]=df[\"Bonus\"].fillna(0)"
      ],
      "metadata": {
        "colab": {
          "base_uri": "https://localhost:8080/"
        },
        "id": "fdO6F_IC1l-r",
        "outputId": "f70e64d6-7508-4c3d-b65b-436b21caad26"
      },
      "execution_count": null,
      "outputs": [
        {
          "output_type": "stream",
          "name": "stdout",
          "text": [
            "Employee_ID            0\n",
            "Name                   0\n",
            "Department             0\n",
            "Age                    0\n",
            "Salary                 0\n",
            "Years_of_Experience    0\n",
            "Joining_Date           0\n",
            "Gender                 0\n",
            "Bonus                  0\n",
            "Rating                 0\n",
            "Performance            0\n",
            "dtype: int64\n"
          ]
        }
      ]
    },
    {
      "cell_type": "code",
      "source": [
        "df.rename(columns={\"Employee_ID\":\"ID\"},inplace=True)\n",
        "print(df)"
      ],
      "metadata": {
        "colab": {
          "base_uri": "https://localhost:8080/"
        },
        "id": "oIub1euk2OQm",
        "outputId": "1bf0dbab-cf3d-40f5-875b-32ae451af072"
      },
      "execution_count": null,
      "outputs": [
        {
          "output_type": "stream",
          "name": "stdout",
          "text": [
            "    ID     Name Department  Age  Salary  Years_of_Experience Joining_Date  \\\n",
            "0  101    Alice         HR   29   50000                    4   2020-03-15   \n",
            "1  102      Bob         IT   34   70000                    8   2017-07-19   \n",
            "2  103  Charlie         IT   41   65000                   10   2013-06-01   \n",
            "3  104    Diana  Marketing   28   55000                    3   2021-02-10   \n",
            "4  105   Edward      Sales   38   60000                   12   2010-11-25   \n",
            "\n",
            "   Gender  Bonus  Rating Performance  \n",
            "0  Female   5000     4.5        Good  \n",
            "1    Male   7000     4.0     Average  \n",
            "2    Male   6000     3.8     Average  \n",
            "3  Female   4500     4.7   Excellent  \n",
            "4    Male   5000     3.5     Average  \n"
          ]
        }
      ]
    },
    {
      "cell_type": "code",
      "source": [
        "filtered_df=df[(df[\"Years_of_Experience\"]>5)&(df[\"Department\"]==\"IT\")]\n",
        "print(filtered_df)"
      ],
      "metadata": {
        "colab": {
          "base_uri": "https://localhost:8080/"
        },
        "id": "UM0uNSXM2fXH",
        "outputId": "f935641c-1bc5-443c-eb65-4a3e0f62af3d"
      },
      "execution_count": null,
      "outputs": [
        {
          "output_type": "stream",
          "name": "stdout",
          "text": [
            "    ID     Name Department  Age  Salary  Years_of_Experience Joining_Date  \\\n",
            "1  102      Bob         IT   34   70000                    8   2017-07-19   \n",
            "2  103  Charlie         IT   41   65000                   10   2013-06-01   \n",
            "\n",
            "  Gender  Bonus  Rating Performance  \n",
            "1   Male   7000     4.0     Average  \n",
            "2   Male   6000     3.8     Average  \n"
          ]
        }
      ]
    },
    {
      "cell_type": "code",
      "source": [
        "df[\"Tax\"]=df[\"Salary\"]*0.1\n",
        "print(df)"
      ],
      "metadata": {
        "colab": {
          "base_uri": "https://localhost:8080/"
        },
        "id": "sp42fg6B3BPb",
        "outputId": "abc1f970-a9ad-4e9c-fecf-18eb83e12204"
      },
      "execution_count": null,
      "outputs": [
        {
          "output_type": "stream",
          "name": "stdout",
          "text": [
            "    ID     Name Department  Age  Salary  Years_of_Experience Joining_Date  \\\n",
            "0  101    Alice         HR   29   50000                    4   2020-03-15   \n",
            "1  102      Bob         IT   34   70000                    8   2017-07-19   \n",
            "2  103  Charlie         IT   41   65000                   10   2013-06-01   \n",
            "3  104    Diana  Marketing   28   55000                    3   2021-02-10   \n",
            "4  105   Edward      Sales   38   60000                   12   2010-11-25   \n",
            "\n",
            "   Gender  Bonus  Rating Performance     Tax  \n",
            "0  Female   5000     4.5        Good  5000.0  \n",
            "1    Male   7000     4.0     Average  7000.0  \n",
            "2    Male   6000     3.8     Average  6500.0  \n",
            "3  Female   4500     4.7   Excellent  5500.0  \n",
            "4    Male   5000     3.5     Average  6000.0  \n"
          ]
        }
      ]
    },
    {
      "cell_type": "code",
      "source": [
        "df.to_csv(\"employee_data.csv\",index=False)\n",
        "print(df)"
      ],
      "metadata": {
        "colab": {
          "base_uri": "https://localhost:8080/"
        },
        "id": "B9tnxugY3PmA",
        "outputId": "fc232f22-0f4b-475e-d553-25215ef11045"
      },
      "execution_count": null,
      "outputs": [
        {
          "output_type": "stream",
          "name": "stdout",
          "text": [
            "    ID     Name Department  Age  Salary  Years_of_Experience Joining_Date  \\\n",
            "0  101    Alice         HR   29   50000                    4   2020-03-15   \n",
            "1  102      Bob         IT   34   70000                    8   2017-07-19   \n",
            "2  103  Charlie         IT   41   65000                   10   2013-06-01   \n",
            "3  104    Diana  Marketing   28   55000                    3   2021-02-10   \n",
            "4  105   Edward      Sales   38   60000                   12   2010-11-25   \n",
            "\n",
            "   Gender  Bonus  Rating Performance     Tax  \n",
            "0  Female   5000     4.5        Good  5000.0  \n",
            "1    Male   7000     4.0     Average  7000.0  \n",
            "2    Male   6000     3.8     Average  6500.0  \n",
            "3  Female   4500     4.7   Excellent  5500.0  \n",
            "4    Male   5000     3.5     Average  6000.0  \n"
          ]
        }
      ]
    }
  ]
}